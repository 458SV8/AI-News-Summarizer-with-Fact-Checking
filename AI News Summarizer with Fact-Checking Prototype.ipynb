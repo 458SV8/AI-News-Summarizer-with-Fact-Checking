{
 "cells": [
  {
   "cell_type": "code",
   "execution_count": 12,
   "id": "ff9b7546",
   "metadata": {},
   "outputs": [
    {
     "name": "stderr",
     "output_type": "stream",
     "text": [
      "[nltk_data] Downloading package punkt to\n",
      "[nltk_data]     C:\\Users\\Shrey\\AppData\\Roaming\\nltk_data...\n",
      "[nltk_data]   Package punkt is already up-to-date!\n"
     ]
    }
   ],
   "source": [
    "\n",
    "import nltk\n",
    "nltk.download('punkt')\n",
    "\n",
    "from newspaper import Article\n",
    "from transformers import pipeline\n",
    "import random\n"
   ]
  },
  {
   "cell_type": "code",
   "execution_count": 13,
   "id": "4f223014",
   "metadata": {},
   "outputs": [],
   "source": [
    "sample_article = \"\"\"\n",
    "The Federal Reserve announced today that it will hold interest rates steady at 5.25% for the third consecutive quarter. \n",
    "Chair Jerome Powell stated that inflation is expected to decrease by 2.5% over the next six months. \n",
    "Analysts predict that rate cuts may begin in Q4 if labor market conditions stabilize. \n",
    "This marks a shift from the earlier projections which expected an aggressive stance through 2024. \n",
    "The Fed also indicated that a digital dollar pilot program may launch in early 2025.\n",
    "\"\"\"\n"
   ]
  },
  {
   "cell_type": "code",
   "execution_count": 14,
   "id": "13e9e4ab",
   "metadata": {},
   "outputs": [
    {
     "name": "stderr",
     "output_type": "stream",
     "text": [
      "Device set to use cpu\n"
     ]
    },
    {
     "name": "stdout",
     "output_type": "stream",
     "text": [
      "Summary:\n",
      " The Federal Reserve announced today that it will hold interest rates steady at 5.25% for the third consecutive quarter. Chair Jerome Powell stated that inflation is expected to decrease by 2.5% over the next six months.\n"
     ]
    }
   ],
   "source": [
    "from transformers import pipeline\n",
    "\n",
    "summarizer = pipeline(\"summarization\", model=\"facebook/bart-large-cnn\")\n",
    "\n",
    "def summarize(text):\n",
    "    return summarizer(text, max_length=100, min_length=30, do_sample=False)[0]['summary_text']\n",
    "\n",
    "summary = summarize(sample_article)\n",
    "print(\"Summary:\\n\", summary)\n"
   ]
  },
  {
   "cell_type": "code",
   "execution_count": 15,
   "id": "edb97185",
   "metadata": {},
   "outputs": [
    {
     "name": "stdout",
     "output_type": "stream",
     "text": [
      "Detected Claims:\n",
      "- \n",
      "The Federal Reserve announced today that it will hold interest rates steady at 5.25% for the third consecutive quarter.\n",
      "- Chair Jerome Powell stated that inflation is expected to decrease by 2.5% over the next six months.\n",
      "- Analysts predict that rate cuts may begin in Q4 if labor market conditions stabilize.\n",
      "- This marks a shift from the earlier projections which expected an aggressive stance through 2024.\n",
      "- The Fed also indicated that a digital dollar pilot program may launch in early 2025.\n"
     ]
    }
   ],
   "source": [
    "from nltk.tokenize import sent_tokenize\n",
    "\n",
    "def extract_claims(text):\n",
    "    keywords = [\"will\", \"announce\", \"predict\", \"expect\", \"project\", \"indicate\", \"launch\"]\n",
    "    sentences = sent_tokenize(text)\n",
    "    return [s for s in sentences if any(k in s.lower() for k in keywords)]\n",
    "\n",
    "claims = extract_claims(sample_article)\n",
    "print(\"Detected Claims:\")\n",
    "for claim in claims:\n",
    "    print(\"-\", claim)\n"
   ]
  },
  {
   "cell_type": "code",
   "execution_count": 19,
   "id": "eac42a67",
   "metadata": {},
   "outputs": [
    {
     "name": "stdout",
     "output_type": "stream",
     "text": [
      "Claims with Credibility Scores:\n",
      "- ⚠️ The Federal Reserve announced today that it will hold interest rates steady at 5.25% for the third consecutive quarter. – *Medium confidence*\n",
      "- ❌ Chair Jerome Powell stated that inflation is expected to decrease by 2.5% over the next six months. – *Low confidence*\n",
      "- ✅ Analysts predict that rate cuts may begin in Q4 if labor market conditions stabilize. – *High confidence*\n",
      "- ⚠️ This marks a shift from the earlier projections which expected an aggressive stance through 2024. – *Medium confidence*\n",
      "- ✅ The Fed also indicated that a digital dollar pilot program may launch in early 2025. – *High confidence*\n"
     ]
    }
   ],
   "source": [
    "import random\n",
    "\n",
    "def assess_claim(claim):\n",
    "    return random.choice([\"High\", \"Medium\", \"Low\"])\n",
    "\n",
    "claims_with_scores = [(c.strip(), assess_claim(c.strip())) for c in claims if c.strip()]\n",
    "print(\"Claims with Credibility Scores:\")\n",
    "for claim, score in claims_with_scores:\n",
    "    emoji = {\"High\": \"✅\", \"Medium\": \"⚠️\", \"Low\": \"❌\"}.get(score, \"❓\")\n",
    "    print(f\"- {emoji} {claim} – *{score} confidence*\")\n",
    "\n"
   ]
  }
 ],
 "metadata": {
  "kernelspec": {
   "display_name": "base",
   "language": "python",
   "name": "python3"
  },
  "language_info": {
   "codemirror_mode": {
    "name": "ipython",
    "version": 3
   },
   "file_extension": ".py",
   "mimetype": "text/x-python",
   "name": "python",
   "nbconvert_exporter": "python",
   "pygments_lexer": "ipython3",
   "version": "3.9.13"
  }
 },
 "nbformat": 4,
 "nbformat_minor": 5
}
